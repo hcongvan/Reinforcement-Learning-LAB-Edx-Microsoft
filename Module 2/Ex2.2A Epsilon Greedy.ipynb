{
  "cells": [
    {
      "metadata": {},
      "cell_type": "markdown",
      "source": "# DAT257x: Reinforcement Learning Explained\n\n## Lab 2: Bandits\n\n### Exercise 2.2A: Epsilon Greedy"
    },
    {
      "metadata": {
        "trusted": true
      },
      "cell_type": "code",
      "source": "import numpy as np\nimport sys\n\nif \"../\" not in sys.path:\n    sys.path.append(\"../\") \n\nfrom lib.envs.bandit import BanditEnv\nfrom lib.simulation import Experiment",
      "execution_count": 1,
      "outputs": []
    },
    {
      "metadata": {
        "trusted": true
      },
      "cell_type": "code",
      "source": "#Policy interface\nclass Policy:\n    #num_actions: (int) Number of arms [indexed by 0 ... num_actions-1]\n    def __init__(self, num_actions):\n        self.num_actions = num_actions\n    \n    def act(self):\n        pass\n        \n    def feedback(self, action, reward):\n        pass",
      "execution_count": null,
      "outputs": []
    },
    {
      "metadata": {
        "collapsed": true,
        "trusted": true
      },
      "cell_type": "code",
      "source": "#Greedy policy\nclass Greedy(Policy):\n    def __init__(self, num_actions):\n        Policy.__init__(self, num_actions)\n        self.name = \"Greedy\"\n        self.total_rewards = np.zeros(num_actions, dtype = np.longdouble)\n        self.total_counts = np.zeros(num_actions, dtype = np.longdouble)\n    \n    def act(self):\n        current_averages = np.divide(self.total_rewards, self.total_counts, where = self.total_counts > 0)\n        current_averages[self.total_counts <= 0] = 0.5      #Correctly handles Bernoulli rewards; over-estimates otherwise\n        current_action = np.argmax(current_averages)\n        return current_action\n        \n    def feedback(self, action, reward):\n        self.total_rewards[action] += reward\n        self.total_counts[action] += 1",
      "execution_count": null,
      "outputs": []
    },
    {
      "metadata": {},
      "cell_type": "markdown",
      "source": "Now let's implement an epsilon greedy policy based on the policy interface. The epsilon greedy policy will make sure we explore (i.e taking random actions) as set by the epsilon value, and take the most rewarding action (i.e greedy) the rest of the times. This is implemented in the act() function. "
    },
    {
      "metadata": {
        "collapsed": true,
        "trusted": true
      },
      "cell_type": "code",
      "source": "#Epsilon Greedy policy\nclass EpsilonGreedy(Greedy):\n    def __init__(self, num_actions, epsilon):\n        Greedy.__init__(self, num_actions)\n        if (epsilon is None or epsilon < 0 or epsilon > 1):\n            print(\"EpsilonGreedy: Invalid value of epsilon\", flush = True)\n            sys.exit(0)\n            \n        self.epsilon = epsilon\n        self.name = \"Epsilon Greedy\"\n    \n    def act(self):\n        choice = None\n        if self.epsilon == 0:\n            choice = 0\n        elif self.epsilon == 1:\n            choice = 1\n        else:\n            choice = np.random.binomial(1, self.epsilon)\n            \n        if choice == 1:\n            return np.random.choice(self.num_actions)\n        else:\n            current_averages = np.divide(self.total_rewards, self.total_counts, where = self.total_counts > 0)\n            current_averages[self.total_counts <= 0] = 0.5  #Correctly handles Bernoulli rewards; over-estimates otherwise\n            current_action = np.argmax(current_averages)\n            return current_action\n        ",
      "execution_count": null,
      "outputs": []
    },
    {
      "metadata": {},
      "cell_type": "markdown",
      "source": "Now let's prepare the simulation. We'll use a different seed and have 10 arms/actions instead of 5."
    },
    {
      "metadata": {
        "collapsed": true,
        "trusted": true
      },
      "cell_type": "code",
      "source": "evaluation_seed = 5016\nnum_actions = 10\ntrials = 10000\ndistribution = \"bernoulli\"",
      "execution_count": null,
      "outputs": []
    },
    {
      "metadata": {},
      "cell_type": "markdown",
      "source": "First, let's use epsilon = 0. Run the simulation and observe the results."
    },
    {
      "metadata": {
        "collapsed": true,
        "trusted": true
      },
      "cell_type": "code",
      "source": "epsilon = 0\nenv = BanditEnv(num_actions, distribution, evaluation_seed)\nagent = EpsilonGreedy(num_actions, epsilon)\nexperiment = Experiment(env, agent)\nexperiment.run_bandit(trials)",
      "execution_count": null,
      "outputs": []
    },
    {
      "metadata": {},
      "cell_type": "markdown",
      "source": "What about if epsilon = 1? Run the simulation again and observe the results."
    },
    {
      "metadata": {},
      "cell_type": "markdown",
      "source": "Now, try several different number of epsilons (0.05, 0.1, 0.15). Run the simulations and observe the results."
    },
    {
      "metadata": {},
      "cell_type": "markdown",
      "source": "Which epsilon performs best with this problem?"
    },
    {
      "metadata": {},
      "cell_type": "markdown",
      "source": "Now let's prepare another simulation by setting a different seed. "
    },
    {
      "metadata": {
        "collapsed": true,
        "trusted": true
      },
      "cell_type": "code",
      "source": "evaluation_seed = 1239\nnum_actions = 10\ntrials = 10000\ndistribution = \"bernoulli\"",
      "execution_count": null,
      "outputs": []
    },
    {
      "metadata": {},
      "cell_type": "markdown",
      "source": "Try the range of epsilons again (0, 0.05, 0.1, 0.15, 1), run the simulations and observe the results."
    },
    {
      "metadata": {},
      "cell_type": "markdown",
      "source": "Which epsilon performs best with this problem?"
    },
    {
      "metadata": {},
      "cell_type": "markdown",
      "source": "What do you learn about setting the epsilon value?"
    },
    {
      "metadata": {
        "collapsed": true,
        "trusted": true
      },
      "cell_type": "code",
      "source": "",
      "execution_count": null,
      "outputs": []
    }
  ],
  "metadata": {
    "kernelspec": {
      "name": "python3",
      "display_name": "Python 3",
      "language": "python"
    },
    "language_info": {
      "mimetype": "text/x-python",
      "nbconvert_exporter": "python",
      "name": "python",
      "pygments_lexer": "ipython3",
      "version": "3.5.4",
      "file_extension": ".py",
      "codemirror_mode": {
        "version": 3,
        "name": "ipython"
      }
    }
  },
  "nbformat": 4,
  "nbformat_minor": 2
}